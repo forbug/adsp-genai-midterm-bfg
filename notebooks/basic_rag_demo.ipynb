{
 "cells": [
  {
   "cell_type": "markdown",
   "id": "57b1c45f",
   "metadata": {},
   "source": [
    "# Basic RAG Demo\n",
    "The purpose of this notebook is to demonstrate the capabilities of the basic RAG graph defined in `src/dsi_rag_qa/rag_framework/basic_graph.py`."
   ]
  },
  {
   "cell_type": "code",
   "execution_count": 1,
   "id": "8b74e25f",
   "metadata": {},
   "outputs": [],
   "source": [
    "import nest_asyncio\n",
    "nest_asyncio.apply()"
   ]
  },
  {
   "cell_type": "code",
   "execution_count": null,
   "id": "0f0ada5f",
   "metadata": {},
   "outputs": [],
   "source": [
    "from dsi_rag_qa.rag_framework.basic_graph import create_basic_workflow\n",
    "from dsi_rag_qa.utils.data_ingestion_utils import load_docs_from_url, BASE_URL\n",
    "from dsi_rag_qa.utils.embedding_utils import create_faiss_retriever\n",
    "from dsi_rag_qa.utils.prompt_utils import base_system_prompt\n",
    "from dsi_rag_qa.utils.prompt_utils import create_response_chain"
   ]
  },
  {
   "cell_type": "markdown",
   "id": "4a27d752",
   "metadata": {},
   "source": [
    "## Define the Basic Workflow"
   ]
  },
  {
   "cell_type": "code",
   "execution_count": 10,
   "id": "ed0b33cb",
   "metadata": {},
   "outputs": [],
   "source": [
    "workflow = create_basic_workflow()"
   ]
  },
  {
   "cell_type": "code",
   "execution_count": 12,
   "id": "ebab771f",
   "metadata": {},
   "outputs": [
    {
     "data": {
      "image/png": "[encoded data removed]",
      "text/plain": [
       "<langgraph.graph.state.CompiledStateGraph object at 0x10a746350>"
      ]
     },
     "execution_count": 12,
     "metadata": {},
     "output_type": "execute_result"
    }
   ],
   "source": [
    "workflow"
   ]
  },
  {
   "cell_type": "markdown",
   "id": "4e6767ec",
   "metadata": {},
   "source": [
    "## Load & Store the Pages from the DSI Website"
   ]
  },
  {
   "cell_type": "code",
   "execution_count": null,
   "id": "f1a0203e",
   "metadata": {},
   "outputs": [
    {
     "name": "stdout",
     "output_type": "stream",
     "text": [
      "Loaded 13 documents from https://datascience.uchicago.edu/education/masters-programs/ms-in-applied-data-science/\n"
     ]
    }
   ],
   "source": [
    "# Load the documents from the DSI website\n",
    "docs = await load_docs_from_url(url=BASE_URL)"
   ]
  },
  {
   "cell_type": "code",
   "execution_count": null,
   "id": "bd016770",
   "metadata": {},
   "outputs": [],
   "source": [
    "# Store the documents in a FAISS vector store\n",
    "# and generate a retriever to pass to the workflow\n",
    "vector_retriever, vector_store = create_faiss_retriever(docs)"
   ]
  },
  {
   "cell_type": "code",
   "execution_count": null,
   "id": "c47f6aa0",
   "metadata": {},
   "outputs": [],
   "source": [
    "# Define a response chain that will \n",
    "# parse the final response after the \n",
    "# retrieval and summary steps\n",
    "\n",
    "# To use a different prompt,\n",
    "# define a new variable in a new cell that \n",
    "# contains the prompt string and replace\n",
    "# `base_system_prompt` with that variable.\n",
    "response_chain = create_response_chain(prompt=base_system_prompt)"
   ]
  },
  {
   "cell_type": "markdown",
   "id": "99e7d733",
   "metadata": {},
   "source": [
    "## Query the Graph"
   ]
  },
  {
   "cell_type": "code",
   "execution_count": null,
   "id": "17ec9dc9",
   "metadata": {},
   "outputs": [],
   "source": [
    "query = \"Is the MS in Applied Data Science program STEM/OPT eligible?\""
   ]
  },
  {
   "cell_type": "code",
   "execution_count": null,
   "id": "1bb63da0",
   "metadata": {},
   "outputs": [],
   "source": [
    "# Define the start state for the workflow\n",
    "start_state = {\n",
    "    \"query\": query,\n",
    "    \"vector_retriever\": vector_retriever,\n",
    "    \"response_chain\": response_chain,\n",
    "}"
   ]
  },
  {
   "cell_type": "code",
   "execution_count": 21,
   "id": "d57919a5",
   "metadata": {},
   "outputs": [],
   "source": [
    "response = workflow.invoke(start_state)"
   ]
  },
  {
   "cell_type": "markdown",
   "id": "050d2a28",
   "metadata": {},
   "source": [
    "### Output the Response Text"
   ]
  },
  {
   "cell_type": "code",
   "execution_count": 22,
   "id": "e8c05cd5",
   "metadata": {},
   "outputs": [
    {
     "name": "stdout",
     "output_type": "stream",
     "text": [
      "Query: Is the MS in Applied Data Science program STEM/OPT eligible?\n",
      "Response:  Yes, the full-time, In-Person MS in Applied Data Science program is STEM/OPT eligible. For more information, please visit the University of Chicago Office of International Affairs website.\n"
     ]
    }
   ],
   "source": [
    "print(f\"Query: {response['query']}\")\n",
    "print(f\"Response: {response['response']}\")"
   ]
  },
  {
   "cell_type": "code",
   "execution_count": 23,
   "id": "e5510c02",
   "metadata": {},
   "outputs": [
    {
     "name": "stdout",
     "output_type": "stream",
     "text": [
      "Source: https://datascience.uchicago.edu/education/masters-programs/ms-in-applied-data-science/faqs/\n",
      "Content: Is the Master's in Applied Data Science an approved OPT/STEM program?\t\t\t\t\t\t\t\t\t\n",
      "\n",
      "Yes. Please visit the University of Chicago Office of International Affairs website for more information.\n",
      "\n",
      "\t\t\t\t\t\t\t\t\t\tDoe...\n",
      "--------------------------------------------------------------------------------\n",
      "Source: https://datascience.uchicago.edu/education/masters-programs/ms-in-applied-data-science/in-person-program/\n",
      "Content: Your Career Success\n",
      "Take the next step to advance your career with UChicago’s MS in Applied Data Science.\n",
      "The In-Person program admits full- and part-time students for entrance in Autumn quarter annua...\n",
      "--------------------------------------------------------------------------------\n",
      "Source: https://datascience.uchicago.edu/education/masters-programs/ms-in-applied-data-science/faqs/\n",
      "Content: Is the GRE or GMAT required for the Master's in Applied Data Science program?\t\t\t\t\t\t\t\t\t\n",
      "\n",
      "No, the GRE/GMAT is not required for admissions.\n",
      "\n",
      "\t\t\t\t\t\t\t\t\t\tI took the GRE and/or GMAT and want to include my sc...\n",
      "--------------------------------------------------------------------------------\n",
      "Source: https://datascience.uchicago.edu/education/masters-programs/ms-in-applied-data-science/faqs/\n",
      "Content: Do I need to be a US citizen or permanent resident to apply to Master's in Applied Data Science Online Program?\t\t\t\t\t\t\t\t\t\n",
      "\n",
      "No, students do not have to be US citizen or resident to partake in the Online...\n",
      "--------------------------------------------------------------------------------\n",
      "Source: https://datascience.uchicago.edu/education/masters-programs/ms-in-applied-data-science/faqs/\n",
      "Content: TOEFL score reports will be considered expired if the test was taken more than two years prior to the application deadline.\n",
      "\n",
      "International Students\n",
      "\n",
      "\t\t\t\t\t\t\t\t\t\tWhich Master's in Applied Data Science pr...\n",
      "--------------------------------------------------------------------------------\n"
     ]
    }
   ],
   "source": [
    "for source in response['source_documents']:\n",
    "    print(f\"Source: {source.metadata['source']}\")\n",
    "    print(f\"Content: {source.page_content[:200]}...\")  # Print first 200 characters of content\n",
    "    print(\"-\" * 80)  # Separator for readability"
   ]
  },
  {
   "cell_type": "code",
   "execution_count": null,
   "id": "63ad8061",
   "metadata": {},
   "outputs": [],
   "source": []
  }
 ],
 "metadata": {
  "kernelspec": {
   "display_name": ".venv",
   "language": "python",
   "name": "python3"
  },
  "language_info": {
   "codemirror_mode": {
    "name": "ipython",
    "version": 3
   },
   "file_extension": ".py",
   "mimetype": "text/x-python",
   "name": "python",
   "nbconvert_exporter": "python",
   "pygments_lexer": "ipython3",
   "version": "3.11.11"
  }
 },
 "nbformat": 4,
 "nbformat_minor": 5
}
